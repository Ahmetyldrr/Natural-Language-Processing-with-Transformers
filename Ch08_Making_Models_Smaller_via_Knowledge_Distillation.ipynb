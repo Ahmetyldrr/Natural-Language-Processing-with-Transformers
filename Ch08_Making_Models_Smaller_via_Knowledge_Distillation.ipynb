{
  "nbformat": 4,
  "nbformat_minor": 0,
  "metadata": {
    "colab": {
      "provenance": [],
      "authorship_tag": "ABX9TyOrTtc1Go4RVBkrJhNwDe/9",
      "include_colab_link": true
    },
    "kernelspec": {
      "name": "python3",
      "display_name": "Python 3"
    },
    "language_info": {
      "name": "python"
    }
  },
  "cells": [
    {
      "cell_type": "markdown",
      "metadata": {
        "id": "view-in-github",
        "colab_type": "text"
      },
      "source": [
        "<a href=\"https://colab.research.google.com/github/Ahmetyldrr/Natural-Language-Processing-with-Transformers/blob/main/Ch08_Making_Models_Smaller_via_Knowledge_Distillation.ipynb\" target=\"_parent\"><img src=\"https://colab.research.google.com/assets/colab-badge.svg\" alt=\"Open In Colab\"/></a>"
      ]
    },
    {
      "cell_type": "markdown",
      "source": [
        "https://learning.oreilly.com/library/view/natural-language-processing/9781098136789/ch08.html"
      ],
      "metadata": {
        "id": "g6mAx5dqjjSu"
      }
    },
    {
      "cell_type": "code",
      "execution_count": null,
      "metadata": {
        "id": "dTJfvqytjZM-"
      },
      "outputs": [],
      "source": []
    }
  ]
}